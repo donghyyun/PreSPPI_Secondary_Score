{
 "cells": [
  {
   "cell_type": "markdown",
   "metadata": {},
   "source": [
    "# PreSPI DB Guide"
   ]
  },
  {
   "cell_type": "markdown",
   "metadata": {},
   "source": [
    "### How to access PreSPI db file\n",
    "\n",
    "You can extract data as sqlite3 db file from PreSPI app.  \n",
    "You can the contents by using SQLite DB viewer such as 'DB Browser for SQLite'.  \n",
    "There are `Acc`, `Gyro`, `Baro`, `Loc`, `Rss` tables.\n",
    "\n",
    "**indoor or outdoor** → `Loc` (Since we only collect fused locations, impossible for now)  \n",
    "**floor** → `Baro` (hard)  \n",
    "**moving or not** → `Acc`  \n",
    "**Max RSSI** → `Rss` for 2 people  \n",
    "**contact time** → time when score > 0  \n",
    "**direct or indirect contact** → time diff when score > 0\n",
    "\n",
    "In python, you can use `sqlite3` library to access as below."
   ]
  },
  {
   "cell_type": "code",
   "execution_count": 1,
   "metadata": {
    "ExecuteTime": {
     "end_time": "2020-09-17T07:43:11.934959Z",
     "start_time": "2020-09-17T07:43:11.920950Z"
    }
   },
   "outputs": [],
   "source": [
    "import sqlite3\n",
    "\n",
    "\n",
    "db_filename = 'BlackBox_for_instruction.db'\n",
    "conn = sqlite3.connect(db_filename)\n",
    "cur = conn.cursor()"
   ]
  },
  {
   "cell_type": "code",
   "execution_count": 2,
   "metadata": {
    "ExecuteTime": {
     "end_time": "2020-09-17T07:43:12.054997Z",
     "start_time": "2020-09-17T07:43:11.935961Z"
    }
   },
   "outputs": [],
   "source": [
    "tmp = dict()\n",
    "\n",
    "cur.execute(\"select * from Rss\")\n",
    "rows = cur.fetchall()\n",
    "for row in rows:\n",
    "    elem = {\n",
    "        'timeMicros': row[1],\n",
    "        'ssid': row[2],\n",
    "        'bssid': row[3],\n",
    "        'freq': row[4],\n",
    "        'rss': row[5]\n",
    "    }\n",
    "    try:\n",
    "        tmp[row[6]].append(elem)\n",
    "    except KeyError:\n",
    "        tmp[row[6]] = [elem]\n",
    "\n",
    "fp_list = [{'logTime': k, 'data': tmp[k]} for k in sorted(tmp)]"
   ]
  },
  {
   "cell_type": "code",
   "execution_count": 3,
   "metadata": {
    "ExecuteTime": {
     "end_time": "2020-09-17T07:43:12.070001Z",
     "start_time": "2020-09-17T07:43:12.055997Z"
    }
   },
   "outputs": [],
   "source": [
    "loc_list = list()\n",
    "cur.execute(\"select * from Loc\")\n",
    "rows = cur.fetchall()\n",
    "for row in rows:\n",
    "    elem = {\n",
    "        'timeMillis': row[1],  # timestamp from the app\n",
    "        'givenTimeMillis': row[2],  # timestamp from Location Provider\n",
    "        'lat': row[3],\n",
    "        'lon': row[4],\n",
    "        'alt': row[5],\n",
    "        'hAcc': row[6],\n",
    "        'vAcc': row[7],\n",
    "        'provider': row[8]\n",
    "    }\n",
    "    loc_list.append(elem)"
   ]
  },
  {
   "cell_type": "markdown",
   "metadata": {},
   "source": [
    "If you collect data with 6 seconds interval, currently `Acc`, `Gyro`, `Baro` data may not be exactly distinguished."
   ]
  },
  {
   "cell_type": "code",
   "execution_count": 4,
   "metadata": {
    "ExecuteTime": {
     "end_time": "2020-09-17T07:43:12.715146Z",
     "start_time": "2020-09-17T07:43:12.071001Z"
    }
   },
   "outputs": [],
   "source": [
    "acc_list = list()\n",
    "cur.execute(\"select * from Acc\")\n",
    "rows = cur.fetchall()\n",
    "prev_t = -1e8\n",
    "for row in rows:\n",
    "    elem = {\n",
    "        'timeMillis': row[1],\n",
    "        'timeNanos': row[2],\n",
    "        'x': row[3],\n",
    "        'y': row[4],\n",
    "        'z': row[5]\n",
    "    }\n",
    "    if (row[1] - prev_t) < 600:\n",
    "        acc_list[-1].append(elem)\n",
    "    else:\n",
    "        acc_list.append([elem])\n",
    "    prev_t = row[1]"
   ]
  },
  {
   "cell_type": "code",
   "execution_count": 5,
   "metadata": {
    "ExecuteTime": {
     "end_time": "2020-09-17T07:43:12.790677Z",
     "start_time": "2020-09-17T07:43:12.716146Z"
    }
   },
   "outputs": [],
   "source": [
    "gyro_list = list()\n",
    "cur.execute(\"select * from Gyro\")\n",
    "rows = cur.fetchall()\n",
    "prev_t = -1e8\n",
    "for row in rows:\n",
    "    elem = {\n",
    "        'timeMillis': row[1],\n",
    "        'timeNanos': row[2],\n",
    "        'x': row[3],\n",
    "        'y': row[4],\n",
    "        'z': row[5]\n",
    "    }\n",
    "    if (row[1] - prev_t) < 600:\n",
    "        gyro_list[-1].append(elem)\n",
    "    else:\n",
    "        gyro_list.append([elem])\n",
    "    prev_t = row[1]"
   ]
  },
  {
   "cell_type": "code",
   "execution_count": 6,
   "metadata": {
    "ExecuteTime": {
     "end_time": "2020-09-17T07:43:12.850696Z",
     "start_time": "2020-09-17T07:43:12.791678Z"
    }
   },
   "outputs": [],
   "source": [
    "baro_list = list()\n",
    "cur.execute(\"select * from Baro\")\n",
    "rows = cur.fetchall()\n",
    "prev_t = -1e8\n",
    "for row in rows:\n",
    "    elem = {\n",
    "        'timeMillis': row[1],\n",
    "        'timeNanos': row[2],\n",
    "        'value': row[3]\n",
    "    }\n",
    "    if (row[1] - prev_t) < 600:\n",
    "        baro_list[-1].append(elem)\n",
    "    else:\n",
    "        baro_list.append([elem])\n",
    "    prev_t = row[1]"
   ]
  },
  {
   "cell_type": "markdown",
   "metadata": {
    "ExecuteTime": {
     "end_time": "2020-09-17T07:18:30.462691Z",
     "start_time": "2020-09-17T07:18:30.448687Z"
    }
   },
   "source": [
    "You should close the connection after the task."
   ]
  },
  {
   "cell_type": "code",
   "execution_count": 7,
   "metadata": {
    "ExecuteTime": {
     "end_time": "2020-09-17T07:43:12.865704Z",
     "start_time": "2020-09-17T07:43:12.852697Z"
    }
   },
   "outputs": [],
   "source": [
    "conn.close()"
   ]
  },
  {
   "cell_type": "markdown",
   "metadata": {},
   "source": [
    "### How to upload PreSPI data\n",
    "\n",
    "You can upload your PreSPI data at [PreSPI Console](http://143.248.53.196:8000/)(ID: admin, PW: isilab123).  \n",
    "Only `Loc` and `Rss` data are uploaded.\n",
    "\n",
    "`확진자 관리` → `확진자 추가`\n",
    "\n",
    "### How to access our mongodb\n",
    "\n",
    "In python, you can use `pymongo` library to access as below."
   ]
  },
  {
   "cell_type": "code",
   "execution_count": 8,
   "metadata": {
    "ExecuteTime": {
     "end_time": "2020-09-17T07:43:12.926104Z",
     "start_time": "2020-09-17T07:43:12.866704Z"
    }
   },
   "outputs": [],
   "source": [
    "from pymongo import MongoClient\n",
    "\n",
    "\n",
    "client = MongoClient('mongodb://143.248.53.196:19191')  # IP & port number\n",
    "db = client['kaisq']  # name of DB"
   ]
  },
  {
   "cell_type": "markdown",
   "metadata": {},
   "source": [
    "Uploaded PreSPI data are stored in `patient` collection.\n",
    "\n",
    "Example of listing registered patients:"
   ]
  },
  {
   "cell_type": "code",
   "execution_count": 9,
   "metadata": {
    "ExecuteTime": {
     "end_time": "2020-09-17T07:43:12.941109Z",
     "start_time": "2020-09-17T07:43:12.927105Z"
    }
   },
   "outputs": [
    {
     "name": "stdout",
     "output_type": "stream",
     "text": [
      "24463856\n",
      "28277672\n",
      "38876039\n",
      "90210623\n",
      "50460317\n"
     ]
    }
   ],
   "source": [
    "for patient in db['patient'].find({}, limit=5):\n",
    "    print(patient['code'])"
   ]
  },
  {
   "cell_type": "markdown",
   "metadata": {
    "ExecuteTime": {
     "end_time": "2020-09-17T06:07:32.692787Z",
     "start_time": "2020-09-17T06:07:32.681281Z"
    }
   },
   "source": [
    "Example of accessing a patient's data:"
   ]
  },
  {
   "cell_type": "code",
   "execution_count": 10,
   "metadata": {
    "ExecuteTime": {
     "end_time": "2020-09-17T07:43:15.523199Z",
     "start_time": "2020-09-17T07:43:12.942109Z"
    }
   },
   "outputs": [
    {
     "name": "stdout",
     "output_type": "stream",
     "text": [
      "16281\n"
     ]
    }
   ],
   "source": [
    "patient_id = db['patient'].find_one({'code': '24463856'})['_id']\n",
    "wifi_data = [elem for elem in db['record_wifi'].find({'patient': patient_id})]\n",
    "print(len(wifi_data))"
   ]
  },
  {
   "cell_type": "markdown",
   "metadata": {},
   "source": [
    "You should close the connection after the task."
   ]
  },
  {
   "cell_type": "code",
   "execution_count": 11,
   "metadata": {
    "ExecuteTime": {
     "end_time": "2020-09-17T07:43:15.538709Z",
     "start_time": "2020-09-17T07:43:15.524199Z"
    }
   },
   "outputs": [],
   "source": [
    "client.close()"
   ]
  }
 ],
 "metadata": {
  "kernelspec": {
   "display_name": "Python 3",
   "language": "python",
   "name": "python3"
  },
  "language_info": {
   "codemirror_mode": {
    "name": "ipython",
    "version": 3
   },
   "file_extension": ".py",
   "mimetype": "text/x-python",
   "name": "python",
   "nbconvert_exporter": "python",
   "pygments_lexer": "ipython3",
   "version": "3.8.3"
  }
 },
 "nbformat": 4,
 "nbformat_minor": 4
}
