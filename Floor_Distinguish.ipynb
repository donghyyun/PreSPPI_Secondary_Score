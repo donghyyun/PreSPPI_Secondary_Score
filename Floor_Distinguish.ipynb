{
 "cells": [
  {
   "cell_type": "code",
   "execution_count": 32,
   "metadata": {},
   "outputs": [],
   "source": [
    "import sqlite3\n",
    "import numpy as np\n",
    "import time\n",
    "from matplotlib import pyplot as plt\n",
    "\n",
    "#수집시간(5초)\n",
    "COLLECTION_TIME = 5000"
   ]
  },
  {
   "cell_type": "code",
   "execution_count": 130,
   "metadata": {},
   "outputs": [],
   "source": [
    "floor28_db = 'BlackBox/BlackBox_2&8_floor.db'\n",
    "floor28_conn = sqlite3.connect(floor28_db)\n",
    "cur28 = floor28_conn.cursor()"
   ]
  },
  {
   "cell_type": "code",
   "execution_count": 131,
   "metadata": {},
   "outputs": [],
   "source": [
    "floor67_db = 'BlackBox/BlackBox_6&7_floor.db'\n",
    "floor67_conn = sqlite3.connect(floor67_db)\n",
    "cur67 = floor67_conn.cursor()"
   ]
  },
  {
   "cell_type": "markdown",
   "metadata": {},
   "source": [
    "## Based on Barometer Sensor"
   ]
  },
  {
   "cell_type": "code",
   "execution_count": 3,
   "metadata": {},
   "outputs": [],
   "source": [
    "def get_baro_list(rows):\n",
    "    baro_list = list()\n",
    "    prev_time = -1e8\n",
    "    \n",
    "    for row in rows:\n",
    "        element = {\n",
    "        'timeMillis': row[1],\n",
    "        'timeNanos': row[2],\n",
    "        'value': row[3]\n",
    "    }\n",
    "    \n",
    "        if (element['timeMillis'] - prev_time) < COLLECTION_TIME:\n",
    "            baro_list[-1].append(element)\n",
    "        else:\n",
    "            baro_list.append([element])\n",
    "            prev_time = element['timeMillis']\n",
    "    \n",
    "    return baro_list"
   ]
  },
  {
   "cell_type": "code",
   "execution_count": null,
   "metadata": {},
   "outputs": [],
   "source": [
    "#6th, 7th floor barometer\n",
    "cur67.execute(\"select * from Baro where id >= 519939 and id <= 521258\")\n",
    "rows_6th_floor = cur67.fetchall()\n",
    "\n",
    "cur67.execute(\"select * from Baro where id >= 519060 and id <= 519305\")\n",
    "rows_7_1_floor = cur67.fetchall()\n",
    "\n",
    "cur67.execute(\"select * from Baro where id >= 519306 and id <= 519800\")\n",
    "rows_7_2_floor = cur67.fetchall()"
   ]
  },
  {
   "cell_type": "code",
   "execution_count": 74,
   "metadata": {},
   "outputs": [],
   "source": [
    "#2nd, 8th floor barometer\n",
    "cur28.execute(\"select * from Baro where id >= 252 and id < 1752\")\n",
    "rows_8th_floor = cur28.fetchall()\n",
    "\n",
    "cur28.execute(\"select * from Baro where id > 1752\")\n",
    "rows_2nd_floor = cur28.fetchall()\n",
    "\n",
    "baro_list_confirmed = get_baro_list(rows_8th_floor)\n",
    "baro_list_user = get_baro_list(rows_2nd_floor)"
   ]
  },
  {
   "cell_type": "code",
   "execution_count": 96,
   "metadata": {},
   "outputs": [],
   "source": [
    "# calculate mean of the barometer sensor value\n",
    "user_baro_mean = []\n",
    "confirmed_baro_mean = []\n",
    "\n",
    "for x in baro_list_user:\n",
    "    user_baro_mean.append(np.array([row['value'] for row in x]).mean().item())\n",
    "\n",
    "for x in baro_list_confirmed:\n",
    "    confirmed_baro_mean.append(np.array([row['value'] for row in x]).mean().item())"
   ]
  },
  {
   "cell_type": "code",
   "execution_count": 100,
   "metadata": {},
   "outputs": [
    {
     "data": {
      "text/plain": [
       "12"
      ]
     },
     "execution_count": 100,
     "metadata": {},
     "output_type": "execute_result"
    }
   ],
   "source": [
    "len(user_baro_mean)\n",
    "len(confirmed_baro_mean)"
   ]
  },
  {
   "cell_type": "markdown",
   "metadata": {},
   "source": [
    "## Based on Fingerprint"
   ]
  },
  {
   "cell_type": "code",
   "execution_count": 105,
   "metadata": {},
   "outputs": [],
   "source": [
    "def get_fingerprint_list(rows, key=lambda x : (x['rss'], x['bssid']), reverse=True):\n",
    "    fp_dict = dict()\n",
    "    prev_time = -1e8\n",
    "    \n",
    "    for row in rows:\n",
    "        element = {\n",
    "            'timeMicros': row[1],\n",
    "            'ssid': row[2],\n",
    "            'bssid': row[3],\n",
    "            'freq': row[4],\n",
    "            'rss': row[5]\n",
    "        }\n",
    "        wifi_time = row[6]\n",
    "        \n",
    "        try:\n",
    "            fp_dict[wifi_time].append(element)\n",
    "        except KeyError:\n",
    "            fp_dict[wifi_time] = [element]\n",
    "    \n",
    "    fp_list = [{'logTime': t, 'data': sorted(fp_dict[t], key=key, reverse=reverse)} for t in sorted(fp_dict)]\n",
    "    return fp_list"
   ]
  },
  {
   "cell_type": "code",
   "execution_count": 132,
   "metadata": {},
   "outputs": [],
   "source": [
    "#6th, 7th floor barometer\n",
    "cur67.execute(\"select * from Rss where id >= 1064603 and id <= 1065635\")\n",
    "rows_6th_floor = cur67.fetchall()\n",
    "\n",
    "cur67.execute(\"select * from Rss where id >= 1053927 and id <= 1063057\")\n",
    "rows_7_1_floor = cur67.fetchall()\n",
    "\n",
    "cur67.execute(\"select * from Rss where id >= 1063058 and id <= 1064279\")\n",
    "rows_7_2_floor = cur67.fetchall()"
   ]
  },
  {
   "cell_type": "code",
   "execution_count": 133,
   "metadata": {},
   "outputs": [],
   "source": [
    "#2nd, 8th floor fingerprint\n",
    "cur28.execute(\"select * from Rss where id >= 280 and id < 2436\")\n",
    "rows_8th_floor = cur28.fetchall()\n",
    "\n",
    "cur28.execute(\"select * from Rss where id >= 2436\")\n",
    "rows_2nd_floor = cur28.fetchall()"
   ]
  },
  {
   "cell_type": "code",
   "execution_count": 153,
   "metadata": {},
   "outputs": [],
   "source": [
    "fp_list_confirmed = get_fingerprint_list(rows_8th_floor)\n",
    "fp_list_user = get_fingerprint_list(rows_7_1_floor)"
   ]
  },
  {
   "cell_type": "code",
   "execution_count": 154,
   "metadata": {},
   "outputs": [
    {
     "name": "stdout",
     "output_type": "stream",
     "text": [
      "0.23333333333333334\n",
      "[('eduroam', '00:24:6c:7d:f6:e1', -65), ('DioOpenWrt', '10:6f:3f:e7:f2:84', -60), ('[air purifier] Samsung', '28:6d:97:58:d4:3e', -68), ('Lapras2.4G', '60:38:e0:bb:ee:01', -44), ('Lapras2.4G-guest', '62:38:e0:bb:ee:01', -44), ('ISILAB-2G', '70:5d:cc:92:31:08', -56), ('hcil_vr4t', '72:5d:cc:48:5b:28', -67)]\n",
      "[('eduroam', '00:24:6c:7d:f6:e1', -64), ('DioOpenWrt', '10:6f:3f:e7:f2:84', -50), ('[air purifier] Samsung', '28:6d:97:58:d4:3e', -53), ('Lapras2.4G', '60:38:e0:bb:ee:01', -40), ('Lapras2.4G-guest', '62:38:e0:bb:ee:01', -43), ('ISILAB-2G', '70:5d:cc:92:31:08', -40), ('hcil_vr4t', '72:5d:cc:48:5b:28', -55)]\n",
      "\n",
      "0.03333333333333333\n",
      "[('Lapras5G-guest', '62:38:e0:bb:ee:02', -54)]\n",
      "[('Lapras5G-guest', '62:38:e0:bb:ee:02', -68)]\n",
      "\n",
      "0.1\n",
      "[('HCIL', '6c:70:9f:e0:92:7f', -75), ('HCIL guest', '6e:7f:92:e0:9f:70', -76), ('hcil_vr4t5G', '70:5d:cc:78:5b:28', -72)]\n",
      "[('HCIL', '6c:70:9f:e0:92:7f', -65), ('HCIL guest', '6e:7f:92:e0:9f:70', -65), ('hcil_vr4t5G', '70:5d:cc:78:5b:28', -63)]\n",
      "\n",
      "0.26666666666666666\n",
      "[('DioOpenWrt', '10:6f:3f:e7:f2:84', -58), ('[air purifier] Samsung', '28:6d:97:58:d4:3e', -63), ('Lapras2.4G', '60:38:e0:bb:ee:01', -47), ('Lapras2.4G-guest', '62:38:e0:bb:ee:01', -47), ('ISID', '70:5d:cc:92:2a:84', -65), ('ISILAB-2G', '70:5d:cc:92:31:08', -61), ('hcil_vr4t', '72:5d:cc:48:5b:28', -64), ('WASHERE1', 'b0:c7:45:76:44:2a', -66)]\n",
      "[('DioOpenWrt', '10:6f:3f:e7:f2:84', -52), ('[air purifier] Samsung', '28:6d:97:58:d4:3e', -49), ('Lapras2.4G', '60:38:e0:bb:ee:01', -38), ('Lapras2.4G-guest', '62:38:e0:bb:ee:01', -38), ('ISID', '70:5d:cc:92:2a:84', -48), ('ISILAB-2G', '70:5d:cc:92:31:08', -33), ('hcil_vr4t', '72:5d:cc:48:5b:28', -58), ('WASHERE1', 'b0:c7:45:76:44:2a', -52)]\n",
      "\n",
      "0.13333333333333333\n",
      "[('HCIL', '6c:70:9f:e0:92:7f', -75), ('HCIL guest', '6e:7f:92:e0:9f:70', -76), ('egocoord5G', '70:5d:cc:1b:ae:a4', -78), ('hcil_vr4t5G', '70:5d:cc:78:5b:28', -71)]\n",
      "[('HCIL', '6c:70:9f:e0:92:7f', -65), ('HCIL guest', '6e:7f:92:e0:9f:70', -65), ('egocoord5G', '70:5d:cc:1b:ae:a4', -66), ('hcil_vr4t5G', '70:5d:cc:78:5b:28', -65)]\n",
      "\n",
      "0.1\n",
      "[('HCIL', '6c:70:9f:e0:92:7f', -72), ('HCIL guest', '6e:7f:92:e0:9f:70', -71), ('hcil_vr4t5G', '70:5d:cc:78:5b:28', -69)]\n",
      "[('HCIL', '6c:70:9f:e0:92:7f', -65), ('HCIL guest', '6e:7f:92:e0:9f:70', -65), ('hcil_vr4t5G', '70:5d:cc:78:5b:28', -66)]\n",
      "\n",
      "0.36666666666666664\n",
      "[('MoCA', '00:08:9f:bf:5e:44', -62), ('DioOpenWrt', '10:6f:3f:e7:f2:84', -52), ('[air purifier] Samsung', '28:6d:97:58:d4:3e', -65), ('Shadow', '58:ef:68:72:96:27', -64), ('Lapras2.4G', '60:38:e0:bb:ee:01', -40), ('Lapras5G', '60:38:e0:bb:ee:02', -41), ('Lapras2.4G-guest', '62:38:e0:bb:ee:01', -39), ('Lapras5G-guest', '62:38:e0:bb:ee:02', -41), ('HCIL guest', '6e:7e:92:e0:9f:70', -65), ('ISILAB-2G', '70:5d:cc:92:31:08', -57), ('WASHERE1', 'b0:c7:45:76:44:2a', -60)]\n",
      "[('MoCA', '00:08:9f:bf:5e:44', -48), ('DioOpenWrt', '10:6f:3f:e7:f2:84', -54), ('[air purifier] Samsung', '28:6d:97:58:d4:3e', -52), ('Shadow', '58:ef:68:72:96:27', -63), ('Lapras2.4G', '60:38:e0:bb:ee:01', -40), ('Lapras5G', '60:38:e0:bb:ee:02', -68), ('Lapras2.4G-guest', '62:38:e0:bb:ee:01', -45), ('Lapras5G-guest', '62:38:e0:bb:ee:02', -68), ('HCIL guest', '6e:7e:92:e0:9f:70', -48), ('ISILAB-2G', '70:5d:cc:92:31:08', -37), ('WASHERE1', 'b0:c7:45:76:44:2a', -53)]\n",
      "\n",
      "0.06666666666666667\n",
      "[('Lapras5G', '60:38:e0:bb:ee:02', -61), ('Lapras5G-guest', '62:38:e0:bb:ee:02', -62)]\n",
      "[('Lapras5G', '60:38:e0:bb:ee:02', -66), ('Lapras5G-guest', '62:38:e0:bb:ee:02', -65)]\n",
      "\n",
      "0.1\n",
      "[('Lapras2.4G', '60:38:e0:bb:ee:01', -64), ('Lapras2.4G-guest', '62:38:e0:bb:ee:01', -64), ('iDBLab-2.4GHz', '78:54:2e:4c:f1:50', -60)]\n",
      "[('Lapras2.4G', '60:38:e0:bb:ee:01', -42), ('Lapras2.4G-guest', '62:38:e0:bb:ee:01', -42), ('iDBLab-2.4GHz', '78:54:2e:4c:f1:50', -60)]\n",
      "\n",
      "0.1\n",
      "[('Lapras2.4G', '60:38:e0:bb:ee:01', -64), ('Lapras2.4G-guest', '62:38:e0:bb:ee:01', -60), ('iDBLab-2.4GHz', '78:54:2e:4c:f1:50', -71)]\n",
      "[('Lapras2.4G', '60:38:e0:bb:ee:01', -43), ('Lapras2.4G-guest', '62:38:e0:bb:ee:01', -40), ('iDBLab-2.4GHz', '78:54:2e:4c:f1:50', -55)]\n",
      "\n",
      "0.36666666666666664\n",
      "[('DioOpenWrt', '10:6f:3f:e7:f2:84', -68), ('[air purifier] Samsung', '28:6d:97:58:d4:3e', -74), ('Shadow', '58:ef:68:72:96:27', -73), ('', '5e:ef:68:72:96:27', -73), ('Lapras2.4G', '60:38:e0:bb:ee:01', -56), ('Lapras5G', '60:38:e0:bb:ee:02', -54), ('Lapras2.4G-guest', '62:38:e0:bb:ee:01', -56), ('Lapras5G-guest', '62:38:e0:bb:ee:02', -54), ('iDBLab-2.4GHz', '78:54:2e:4c:f1:50', -55), ('Caislab2G', '90:9f:33:bb:c4:e4', -75), ('WASHERE1', 'b0:c7:45:76:44:2a', -72)]\n",
      "[('DioOpenWrt', '10:6f:3f:e7:f2:84', -51), ('[air purifier] Samsung', '28:6d:97:58:d4:3e', -54), ('Shadow', '58:ef:68:72:96:27', -57), ('', '5e:ef:68:72:96:27', -58), ('Lapras2.4G', '60:38:e0:bb:ee:01', -41), ('Lapras5G', '60:38:e0:bb:ee:02', -67), ('Lapras2.4G-guest', '62:38:e0:bb:ee:01', -41), ('Lapras5G-guest', '62:38:e0:bb:ee:02', -67), ('iDBLab-2.4GHz', '78:54:2e:4c:f1:50', -58), ('Caislab2G', '90:9f:33:bb:c4:e4', -60), ('WASHERE1', 'b0:c7:45:76:44:2a', -56)]\n",
      "\n",
      "0.36666666666666664\n",
      "[('DioOpenWrt', '10:6f:3f:e7:f2:84', -69), ('[air purifier] Samsung', '28:6d:97:58:d4:3e', -73), ('Shadow', '58:ef:68:72:96:27', -71), ('', '5e:ef:68:72:96:27', -71), ('Lapras2.4G', '60:38:e0:bb:ee:01', -50), ('Lapras2.4G-guest', '62:38:e0:bb:ee:01', -50), ('ISILAB-2G', '70:5d:cc:92:31:08', -65), ('egocoord', '72:5d:cc:4b:ae:a4', -73), ('iDBLab-2.4GHz', '78:54:2e:4c:f1:50', -62), ('Caislab2G', '90:9f:33:bb:c4:e4', -75), ('WASHERE1', 'b0:c7:45:76:44:2a', -77)]\n",
      "[('DioOpenWrt', '10:6f:3f:e7:f2:84', -52), ('[air purifier] Samsung', '28:6d:97:58:d4:3e', -56), ('Shadow', '58:ef:68:72:96:27', -64), ('', '5e:ef:68:72:96:27', -65), ('Lapras2.4G', '60:38:e0:bb:ee:01', -43), ('Lapras2.4G-guest', '62:38:e0:bb:ee:01', -43), ('ISILAB-2G', '70:5d:cc:92:31:08', -45), ('egocoord', '72:5d:cc:4b:ae:a4', -62), ('iDBLab-2.4GHz', '78:54:2e:4c:f1:50', -57), ('Caislab2G', '90:9f:33:bb:c4:e4', -60), ('WASHERE1', 'b0:c7:45:76:44:2a', -59)]\n",
      "\n",
      "0.3\n",
      "[('DioOpenWrt', '10:6f:3f:e7:f2:84', -75), ('[air purifier] Samsung', '28:6d:97:58:d4:3e', -71), ('Shadow', '58:ef:68:72:96:27', -74), ('Lapras2.4G', '60:38:e0:bb:ee:01', -56), ('Lapras5G', '60:38:e0:bb:ee:02', -62), ('Lapras2.4G-guest', '62:38:e0:bb:ee:01', -56), ('Lapras5G-guest', '62:38:e0:bb:ee:02', -62), ('ISILAB-2G', '70:5d:cc:92:31:08', -72), ('iDBLab-2.4GHz', '78:54:2e:4c:f1:50', -66)]\n",
      "[('DioOpenWrt', '10:6f:3f:e7:f2:84', -56), ('[air purifier] Samsung', '28:6d:97:58:d4:3e', -57), ('Shadow', '58:ef:68:72:96:27', -61), ('Lapras2.4G', '60:38:e0:bb:ee:01', -42), ('Lapras5G', '60:38:e0:bb:ee:02', -67), ('Lapras2.4G-guest', '62:38:e0:bb:ee:01', -42), ('Lapras5G-guest', '62:38:e0:bb:ee:02', -67), ('ISILAB-2G', '70:5d:cc:92:31:08', -45), ('iDBLab-2.4GHz', '78:54:2e:4c:f1:50', -51)]\n",
      "\n",
      "0.16666666666666666\n",
      "[('DioOpenWrt', '10:6f:3f:e7:f2:84', -77), ('[air purifier] Samsung', '28:6d:97:58:d4:3e', -79), ('Lapras2.4G', '60:38:e0:bb:ee:01', -56), ('Lapras2.4G-guest', '62:38:e0:bb:ee:01', -56), ('Caislab2G', '90:9f:33:bb:c4:e4', -74)]\n",
      "[('DioOpenWrt', '10:6f:3f:e7:f2:84', -57), ('[air purifier] Samsung', '28:6d:97:58:d4:3e', -56), ('Lapras2.4G', '60:38:e0:bb:ee:01', -45), ('Lapras2.4G-guest', '62:38:e0:bb:ee:01', -43), ('Caislab2G', '90:9f:33:bb:c4:e4', -57)]\n",
      "\n",
      "0.36666666666666664\n",
      "[('[air purifier] Samsung', '28:6d:97:58:d4:3e', -70), ('Shadow', '58:ef:68:72:96:27', -72), ('', '5e:ef:68:72:96:27', -69), ('Lapras2.4G', '60:38:e0:bb:ee:01', -54), ('Lapras2.4G-guest', '62:38:e0:bb:ee:01', -54), ('HCIL', '6c:70:9f:e0:92:7e', -70), ('ISILAB-2G', '70:5d:cc:92:31:08', -66), ('ISILAB-5G', '70:5d:cc:93:31:08', -74), ('egocoord', '72:5d:cc:4b:ae:a4', -75), ('iDBLab-2.4GHz', '78:54:2e:4c:f1:50', -62), ('WASHERE1', 'b0:c7:45:76:44:2a', -71)]\n",
      "[('[air purifier] Samsung', '28:6d:97:58:d4:3e', -53), ('Shadow', '58:ef:68:72:96:27', -61), ('', '5e:ef:68:72:96:27', -60), ('Lapras2.4G', '60:38:e0:bb:ee:01', -44), ('Lapras2.4G-guest', '62:38:e0:bb:ee:01', -42), ('HCIL', '6c:70:9f:e0:92:7e', -47), ('ISILAB-2G', '70:5d:cc:92:31:08', -40), ('ISILAB-5G', '70:5d:cc:93:31:08', -45), ('egocoord', '72:5d:cc:4b:ae:a4', -51), ('iDBLab-2.4GHz', '78:54:2e:4c:f1:50', -60), ('WASHERE1', 'b0:c7:45:76:44:2a', -54)]\n",
      "\n",
      "0.3\n",
      "[('DioOpenWrt', '10:6f:3f:e7:f2:84', -73), ('Lapras2.4G', '60:38:e0:bb:ee:01', -58), ('Lapras2.4G-guest', '62:38:e0:bb:ee:01', -58), ('Lapras5G-guest', '62:38:e0:bb:ee:02', -52), ('HCIL', '6c:70:9f:e0:92:7e', -68), ('HCIL guest', '6e:7e:92:e0:9f:70', -75), ('ISILAB-2G', '70:5d:cc:92:31:08', -69), ('iDBLab-2.4GHz', '78:54:2e:4c:f1:50', -56), ('WASHERE1', 'b0:c7:45:76:44:2a', -76)]\n",
      "[('DioOpenWrt', '10:6f:3f:e7:f2:84', -57), ('Lapras2.4G', '60:38:e0:bb:ee:01', -42), ('Lapras2.4G-guest', '62:38:e0:bb:ee:01', -42), ('Lapras5G-guest', '62:38:e0:bb:ee:02', -66), ('HCIL', '6c:70:9f:e0:92:7e', -48), ('HCIL guest', '6e:7e:92:e0:9f:70', -49), ('ISILAB-2G', '70:5d:cc:92:31:08', -39), ('iDBLab-2.4GHz', '78:54:2e:4c:f1:50', -58), ('WASHERE1', 'b0:c7:45:76:44:2a', -57)]\n",
      "\n",
      "0.26666666666666666\n",
      "[('DioOpenWrt', '10:6f:3f:e7:f2:84', -68), ('Shadow', '58:ef:68:72:96:27', -71), ('', '5e:ef:68:72:96:27', -71), ('Lapras2.4G', '60:38:e0:bb:ee:01', -56), ('Lapras2.4G-guest', '62:38:e0:bb:ee:01', -55), ('ISILAB-2G', '70:5d:cc:92:31:08', -69), ('ISILAB-5G', '70:5d:cc:93:31:08', -75), ('WASHERE1', 'b0:c7:45:76:44:2a', -76)]\n",
      "[('DioOpenWrt', '10:6f:3f:e7:f2:84', -55), ('Shadow', '58:ef:68:72:96:27', -60), ('', '5e:ef:68:72:96:27', -60), ('Lapras2.4G', '60:38:e0:bb:ee:01', -42), ('Lapras2.4G-guest', '62:38:e0:bb:ee:01', -42), ('ISILAB-2G', '70:5d:cc:92:31:08', -42), ('ISILAB-5G', '70:5d:cc:93:31:08', -46), ('WASHERE1', 'b0:c7:45:76:44:2a', -54)]\n",
      "\n",
      "0.4\n",
      "[('MoCA', '00:08:9f:bf:5e:44', -61), ('DioOpenWrt', '10:6f:3f:e7:f2:84', -50), ('KEAI', '18:31:bf:46:ff:d8', -58), ('Shadow', '58:ef:68:72:96:27', -56), ('', '5e:ef:68:72:96:27', -56), ('Lapras2.4G', '60:38:e0:bb:ee:01', -44), ('Lapras2.4G-guest', '62:38:e0:bb:ee:01', -44), ('ISILAB-2G', '70:5d:cc:92:31:08', -50), ('ISILAB-5G', '70:5d:cc:93:31:08', -58), ('Caislab2G', '90:9f:33:bb:c4:e4', -52), ('', '9c:d6:43:c8:11:80', -64), ('WASHERE1', 'b0:c7:45:76:44:2a', -55)]\n",
      "[('MoCA', '00:08:9f:bf:5e:44', -48), ('DioOpenWrt', '10:6f:3f:e7:f2:84', -56), ('KEAI', '18:31:bf:46:ff:d8', -48), ('Shadow', '58:ef:68:72:96:27', -58), ('', '5e:ef:68:72:96:27', -63), ('Lapras2.4G', '60:38:e0:bb:ee:01', -41), ('Lapras2.4G-guest', '62:38:e0:bb:ee:01', -41), ('ISILAB-2G', '70:5d:cc:92:31:08', -42), ('ISILAB-5G', '70:5d:cc:93:31:08', -47), ('Caislab2G', '90:9f:33:bb:c4:e4', -55), ('', '9c:d6:43:c8:11:80', -57), ('WASHERE1', 'b0:c7:45:76:44:2a', -55)]\n",
      "\n",
      "0.4\n",
      "[('DioOpenWrt', '10:6f:3f:e7:f2:84', -60), ('KEAI', '18:31:bf:46:ff:d8', -64), ('Shadow', '58:ef:68:72:96:27', -56), ('', '5e:ef:68:72:96:27', -58), ('Lapras2.4G', '60:38:e0:bb:ee:01', -42), ('Lapras2.4G-guest', '62:38:e0:bb:ee:01', -42), ('HCIL', '6c:70:9f:e0:92:7e', -63), ('HCIL guest', '6e:7e:92:e0:9f:70', -63), ('ISILAB-2G', '70:5d:cc:92:31:08', -51), ('ISILAB-5G', '70:5d:cc:93:31:08', -64), ('Caislab2G', '90:9f:33:bb:c4:e4', -61), ('WASHERE1', 'b0:c7:45:76:44:2a', -55)]\n",
      "[('DioOpenWrt', '10:6f:3f:e7:f2:84', -61), ('KEAI', '18:31:bf:46:ff:d8', -56), ('Shadow', '58:ef:68:72:96:27', -65), ('', '5e:ef:68:72:96:27', -63), ('Lapras2.4G', '60:38:e0:bb:ee:01', -46), ('Lapras2.4G-guest', '62:38:e0:bb:ee:01', -46), ('HCIL', '6c:70:9f:e0:92:7e', -49), ('HCIL guest', '6e:7e:92:e0:9f:70', -50), ('ISILAB-2G', '70:5d:cc:92:31:08', -40), ('ISILAB-5G', '70:5d:cc:93:31:08', -46), ('Caislab2G', '90:9f:33:bb:c4:e4', -63), ('WASHERE1', 'b0:c7:45:76:44:2a', -64)]\n",
      "\n",
      "0.4666666666666667\n",
      "[('MoCA', '00:08:9f:bf:5e:44', -64), ('DioOpenWrt', '10:6f:3f:e7:f2:84', -57), ('KEAI', '18:31:bf:46:ff:d8', -65), ('Shadow', '58:ef:68:72:96:27', -58), ('', '5e:ef:68:72:96:27', -58), ('Lapras2.4G', '60:38:e0:bb:ee:01', -37), ('Lapras5G', '60:38:e0:bb:ee:02', -33), ('Lapras2.4G-guest', '62:38:e0:bb:ee:01', -39), ('Lapras5G-guest', '62:38:e0:bb:ee:02', -33), ('ISID', '70:5d:cc:92:2a:84', -64), ('ISILAB-2G', '70:5d:cc:92:31:08', -54), ('ISILAB-5G', '70:5d:cc:93:31:08', -59), ('hcil_vr4t', '72:5d:cc:48:5b:28', -65), ('Caislab2G', '90:9f:33:bb:c4:e4', -58)]\n",
      "[('MoCA', '00:08:9f:bf:5e:44', -53), ('DioOpenWrt', '10:6f:3f:e7:f2:84', -57), ('KEAI', '18:31:bf:46:ff:d8', -50), ('Shadow', '58:ef:68:72:96:27', -55), ('', '5e:ef:68:72:96:27', -61), ('Lapras2.4G', '60:38:e0:bb:ee:01', -49), ('Lapras5G', '60:38:e0:bb:ee:02', -67), ('Lapras2.4G-guest', '62:38:e0:bb:ee:01', -49), ('Lapras5G-guest', '62:38:e0:bb:ee:02', -67), ('ISID', '70:5d:cc:92:2a:84', -58), ('ISILAB-2G', '70:5d:cc:92:31:08', -39), ('ISILAB-5G', '70:5d:cc:93:31:08', -45), ('hcil_vr4t', '72:5d:cc:48:5b:28', -61), ('Caislab2G', '90:9f:33:bb:c4:e4', -66)]\n",
      "\n",
      "0.5333333333333333\n",
      "[('MoCA', '00:08:9f:bf:5e:44', -63), ('eduroam', '00:24:6c:7d:f6:91', -64), ('DioOpenWrt', '10:6f:3f:e7:f2:84', -55), ('KEAI', '18:31:bf:46:ff:d8', -59), ('Shadow', '58:ef:68:72:96:27', -58), ('', '5e:ef:68:72:96:27', -57), ('Lapras2.4G', '60:38:e0:bb:ee:01', -37), ('Lapras5G', '60:38:e0:bb:ee:02', -42), ('Lapras2.4G-guest', '62:38:e0:bb:ee:01', -40), ('Lapras5G-guest', '62:38:e0:bb:ee:02', -42), ('ISILAB-2G', '70:5d:cc:92:31:08', -55), ('ISILAB-5G', '70:5d:cc:93:31:08', -60), ('iDBLab-2.4GHz', '78:54:2e:4c:f1:50', -56), ('Caislab2G', '90:9f:33:bb:c4:e4', -54), ('', '9c:d6:43:c8:11:80', -58), ('WASHERE1', 'b0:c7:45:76:44:2a', -55)]\n",
      "[('MoCA', '00:08:9f:bf:5e:44', -66), ('eduroam', '00:24:6c:7d:f6:91', -61), ('DioOpenWrt', '10:6f:3f:e7:f2:84', -59), ('KEAI', '18:31:bf:46:ff:d8', -57), ('Shadow', '58:ef:68:72:96:27', -67), ('', '5e:ef:68:72:96:27', -69), ('Lapras2.4G', '60:38:e0:bb:ee:01', -51), ('Lapras5G', '60:38:e0:bb:ee:02', -65), ('Lapras2.4G-guest', '62:38:e0:bb:ee:01', -53), ('Lapras5G-guest', '62:38:e0:bb:ee:02', -64), ('ISILAB-2G', '70:5d:cc:92:31:08', -46), ('ISILAB-5G', '70:5d:cc:93:31:08', -47), ('iDBLab-2.4GHz', '78:54:2e:4c:f1:50', -61), ('Caislab2G', '90:9f:33:bb:c4:e4', -64), ('', '9c:d6:43:c8:11:80', -60), ('WASHERE1', 'b0:c7:45:76:44:2a', -61)]\n",
      "\n",
      "0.4\n",
      "[('MoCA', '00:08:9f:bf:5e:44', -64), ('DioOpenWrt', '10:6f:3f:e7:f2:84', -57), ('KEAI', '18:31:bf:46:ff:d8', -58), ('Shadow', '58:ef:68:72:96:27', -59), ('Lapras2.4G', '60:38:e0:bb:ee:01', -38), ('Lapras2.4G-guest', '62:38:e0:bb:ee:01', -39), ('HCIL guest', '6e:7e:92:e0:9f:70', -64), ('ISILAB-2G', '70:5d:cc:92:31:08', -52), ('ISILAB-5G', '70:5d:cc:93:31:08', -58), ('Caislab2G', '90:9f:33:bb:c4:e4', -55), ('', '9c:d6:43:c8:11:80', -64), ('WASHERE1', 'b0:c7:45:76:44:2a', -53)]\n",
      "[('MoCA', '00:08:9f:bf:5e:44', -58), ('DioOpenWrt', '10:6f:3f:e7:f2:84', -58), ('KEAI', '18:31:bf:46:ff:d8', -64), ('Shadow', '58:ef:68:72:96:27', -68), ('Lapras2.4G', '60:38:e0:bb:ee:01', -57), ('Lapras2.4G-guest', '62:38:e0:bb:ee:01', -55), ('HCIL guest', '6e:7e:92:e0:9f:70', -66), ('ISILAB-2G', '70:5d:cc:92:31:08', -57), ('ISILAB-5G', '70:5d:cc:93:31:08', -59), ('Caislab2G', '90:9f:33:bb:c4:e4', -67), ('', '9c:d6:43:c8:11:80', -71), ('WASHERE1', 'b0:c7:45:76:44:2a', -64)]\n",
      "\n",
      "0.23333333333333334\n",
      "[('Welcome_KAIST', '00:24:6c:7d:f6:e0', -55), ('eduroam', '00:24:6c:7d:f6:e1', -56), ('Lapras2.4G', '60:38:e0:bb:ee:01', -61), ('Lapras5G', '60:38:e0:bb:ee:02', -57), ('Lapras5G-guest', '62:38:e0:bb:ee:02', -57), ('ISID', '70:5d:cc:92:2a:84', -59), ('iDBLab-2.4GHz', '78:54:2e:4c:f1:50', -54)]\n",
      "[('Welcome_KAIST', '00:24:6c:7d:f6:e0', -75), ('eduroam', '00:24:6c:7d:f6:e1', -75), ('Lapras2.4G', '60:38:e0:bb:ee:01', -54), ('Lapras5G', '60:38:e0:bb:ee:02', -75), ('Lapras5G-guest', '62:38:e0:bb:ee:02', -75), ('ISID', '70:5d:cc:92:2a:84', -69), ('iDBLab-2.4GHz', '78:54:2e:4c:f1:50', -69)]\n",
      "\n",
      "0.43333333333333335\n",
      "[('Welcome_KAIST', '00:24:6c:7d:f6:e0', -59), ('[air purifier] Samsung', '28:6d:97:58:d4:3e', -56), ('Shadow', '58:ef:68:72:96:27', -63), ('Lapras2.4G', '60:38:e0:bb:ee:01', -53), ('Lapras5G', '60:38:e0:bb:ee:02', -50), ('Lapras2.4G-guest', '62:38:e0:bb:ee:01', -53), ('Lapras5G-guest', '62:38:e0:bb:ee:02', -48), ('HCIL', '6c:70:9f:e0:92:7e', -63), ('HCIL guest', '6e:7e:92:e0:9f:70', -62), ('ISILAB-2G', '70:5d:cc:92:31:08', -62), ('hcil_vr4t', '72:5d:cc:48:5b:28', -61), ('iDBLab-2.4GHz', '78:54:2e:4c:f1:50', -50), ('WASHERE1', 'b0:c7:45:76:44:2a', -63)]\n",
      "[('Welcome_KAIST', '00:24:6c:7d:f6:e0', -66), ('[air purifier] Samsung', '28:6d:97:58:d4:3e', -65), ('Shadow', '58:ef:68:72:96:27', -63), ('Lapras2.4G', '60:38:e0:bb:ee:01', -53), ('Lapras5G', '60:38:e0:bb:ee:02', -73), ('Lapras2.4G-guest', '62:38:e0:bb:ee:01', -54), ('Lapras5G-guest', '62:38:e0:bb:ee:02', -73), ('HCIL', '6c:70:9f:e0:92:7e', -60), ('HCIL guest', '6e:7e:92:e0:9f:70', -61), ('ISILAB-2G', '70:5d:cc:92:31:08', -55), ('hcil_vr4t', '72:5d:cc:48:5b:28', -64), ('iDBLab-2.4GHz', '78:54:2e:4c:f1:50', -67), ('WASHERE1', 'b0:c7:45:76:44:2a', -63)]\n",
      "\n",
      "0.3333333333333333\n",
      "[('eduroam', '00:24:6c:7d:f6:e1', -59), ('DioOpenWrt', '10:6f:3f:e7:f2:84', -56), ('[air purifier] Samsung', '28:6d:97:58:d4:3e', -60), ('Shadow', '58:ef:68:72:96:27', -65), ('Lapras2.4G', '60:38:e0:bb:ee:01', -49), ('Lapras2.4G-guest', '62:38:e0:bb:ee:01', -49), ('HCIL guest', '6e:7e:92:e0:9f:70', -66), ('ISILAB-2G', '70:5d:cc:92:31:08', -55), ('hcil_vr4t', '72:5d:cc:48:5b:28', -66), ('WASHERE1', 'b0:c7:45:76:44:2a', -59)]\n",
      "[('eduroam', '00:24:6c:7d:f6:e1', -73), ('DioOpenWrt', '10:6f:3f:e7:f2:84', -63), ('[air purifier] Samsung', '28:6d:97:58:d4:3e', -65), ('Shadow', '58:ef:68:72:96:27', -68), ('Lapras2.4G', '60:38:e0:bb:ee:01', -54), ('Lapras2.4G-guest', '62:38:e0:bb:ee:01', -54), ('HCIL guest', '6e:7e:92:e0:9f:70', -59), ('ISILAB-2G', '70:5d:cc:92:31:08', -55), ('hcil_vr4t', '72:5d:cc:48:5b:28', -64), ('WASHERE1', 'b0:c7:45:76:44:2a', -64)]\n",
      "\n",
      "0.5\n",
      "[('MoCA', '00:08:9f:bf:5e:44', -61), ('eduroam', '00:24:6c:7d:f6:e1', -65), ('DioOpenWrt', '10:6f:3f:e7:f2:84', -58), ('[air purifier] Samsung', '28:6d:97:58:d4:3e', -60), ('Shadow', '58:ef:68:72:96:27', -56), ('Lapras2.4G', '60:38:e0:bb:ee:01', -46), ('Lapras5G', '60:38:e0:bb:ee:02', -45), ('Lapras2.4G-guest', '62:38:e0:bb:ee:01', -44), ('Lapras5G-guest', '62:38:e0:bb:ee:02', -45), ('HCIL', '6c:70:9f:e0:92:7e', -63), ('ISILAB-2G', '70:5d:cc:92:31:08', -65), ('hcil_vr4t', '72:5d:cc:48:5b:28', -55), ('iDBLab-2.4GHz', '78:54:2e:4c:f1:50', -43), ('Caislab2G', '90:9f:33:bb:c4:e4', -60), ('WASHERE1', 'b0:c7:45:76:44:2a', -59)]\n",
      "[('MoCA', '00:08:9f:bf:5e:44', -56), ('eduroam', '00:24:6c:7d:f6:e1', -74), ('DioOpenWrt', '10:6f:3f:e7:f2:84', -63), ('[air purifier] Samsung', '28:6d:97:58:d4:3e', -66), ('Shadow', '58:ef:68:72:96:27', -69), ('Lapras2.4G', '60:38:e0:bb:ee:01', -55), ('Lapras5G', '60:38:e0:bb:ee:02', -74), ('Lapras2.4G-guest', '62:38:e0:bb:ee:01', -55), ('Lapras5G-guest', '62:38:e0:bb:ee:02', -74), ('HCIL', '6c:70:9f:e0:92:7e', -68), ('ISILAB-2G', '70:5d:cc:92:31:08', -53), ('hcil_vr4t', '72:5d:cc:48:5b:28', -59), ('iDBLab-2.4GHz', '78:54:2e:4c:f1:50', -75), ('Caislab2G', '90:9f:33:bb:c4:e4', -66), ('WASHERE1', 'b0:c7:45:76:44:2a', -63)]\n",
      "\n",
      "0.06666666666666667\n",
      "[('Lapras5G', '60:38:e0:bb:ee:02', -54), ('Lapras5G-guest', '62:38:e0:bb:ee:02', -53)]\n",
      "[('Lapras5G', '60:38:e0:bb:ee:02', -79), ('Lapras5G-guest', '62:38:e0:bb:ee:02', -79)]\n",
      "\n",
      "0.03333333333333333\n",
      "[('Lapras5G-guest', '62:38:e0:bb:ee:02', -58)]\n",
      "[('Lapras5G-guest', '62:38:e0:bb:ee:02', -74)]\n",
      "\n",
      "0.26666666666666666\n",
      "[('DioOpenWrt', '10:6f:3f:e7:f2:84', -80), ('Lapras2.4G', '60:38:e0:bb:ee:01', -65), ('Lapras5G', '60:38:e0:bb:ee:02', -67), ('Lapras2.4G-guest', '62:38:e0:bb:ee:01', -65), ('Lapras5G-guest', '62:38:e0:bb:ee:02', -67), ('ISILAB-2G', '70:5d:cc:92:31:08', -70), ('iDBLab-2.4GHz', '78:54:2e:4c:f1:50', -67), ('Caislab2G', '90:9f:33:bb:c4:e4', -78)]\n",
      "[('DioOpenWrt', '10:6f:3f:e7:f2:84', -62), ('Lapras2.4G', '60:38:e0:bb:ee:01', -54), ('Lapras5G', '60:38:e0:bb:ee:02', -72), ('Lapras2.4G-guest', '62:38:e0:bb:ee:01', -55), ('Lapras5G-guest', '62:38:e0:bb:ee:02', -72), ('ISILAB-2G', '70:5d:cc:92:31:08', -56), ('iDBLab-2.4GHz', '78:54:2e:4c:f1:50', -70), ('Caislab2G', '90:9f:33:bb:c4:e4', -67)]\n",
      "\n",
      "0.3333333333333333\n",
      "[('DioOpenWrt', '10:6f:3f:e7:f2:84', -74), ('[air purifier] Samsung', '28:6d:97:58:d4:3e', -75), ('', '5e:ef:68:72:96:27', -77), ('Lapras2.4G', '60:38:e0:bb:ee:01', -62), ('Lapras5G', '60:38:e0:bb:ee:02', -63), ('Lapras2.4G-guest', '62:38:e0:bb:ee:01', -62), ('Lapras5G-guest', '62:38:e0:bb:ee:02', -63), ('ISILAB-2G', '70:5d:cc:92:31:08', -67), ('iDBLab-2.4GHz', '78:54:2e:4c:f1:50', -61), ('Caislab2G', '90:9f:33:bb:c4:e4', -73)]\n",
      "[('DioOpenWrt', '10:6f:3f:e7:f2:84', -59), ('[air purifier] Samsung', '28:6d:97:58:d4:3e', -62), ('', '5e:ef:68:72:96:27', -64), ('Lapras2.4G', '60:38:e0:bb:ee:01', -51), ('Lapras5G', '60:38:e0:bb:ee:02', -69), ('Lapras2.4G-guest', '62:38:e0:bb:ee:01', -52), ('Lapras5G-guest', '62:38:e0:bb:ee:02', -69), ('ISILAB-2G', '70:5d:cc:92:31:08', -53), ('iDBLab-2.4GHz', '78:54:2e:4c:f1:50', -67), ('Caislab2G', '90:9f:33:bb:c4:e4', -64)]\n",
      "\n",
      "0.23333333333333334\n",
      "[('DioOpenWrt', '10:6f:3f:e7:f2:84', -75), ('[air purifier] Samsung', '28:6d:97:58:d4:3e', -75), ('Lapras2.4G', '60:38:e0:bb:ee:01', -58), ('Lapras5G', '60:38:e0:bb:ee:02', -59), ('Lapras2.4G-guest', '62:38:e0:bb:ee:01', -58), ('Lapras5G-guest', '62:38:e0:bb:ee:02', -59), ('ISILAB-2G', '70:5d:cc:92:31:08', -69)]\n",
      "[('DioOpenWrt', '10:6f:3f:e7:f2:84', -63), ('[air purifier] Samsung', '28:6d:97:58:d4:3e', -68), ('Lapras2.4G', '60:38:e0:bb:ee:01', -53), ('Lapras5G', '60:38:e0:bb:ee:02', -72), ('Lapras2.4G-guest', '62:38:e0:bb:ee:01', -53), ('Lapras5G-guest', '62:38:e0:bb:ee:02', -72), ('ISILAB-2G', '70:5d:cc:92:31:08', -52)]\n",
      "\n",
      "0.3333333333333333\n",
      "[('DioOpenWrt', '10:6f:3f:e7:f2:84', -75), ('Shadow', '58:ef:68:72:96:27', -76), ('', '5e:ef:68:72:96:27', -74), ('Lapras2.4G', '60:38:e0:bb:ee:01', -56), ('Lapras5G', '60:38:e0:bb:ee:02', -62), ('Lapras2.4G-guest', '62:38:e0:bb:ee:01', -56), ('Lapras5G-guest', '62:38:e0:bb:ee:02', -62), ('ISILAB-2G', '70:5d:cc:92:31:08', -71), ('iDBLab-2.4GHz', '78:54:2e:4c:f1:50', -65), ('WASHERE1', 'b0:c7:45:76:44:2a', -77)]\n",
      "[('DioOpenWrt', '10:6f:3f:e7:f2:84', -64), ('Shadow', '58:ef:68:72:96:27', -67), ('', '5e:ef:68:72:96:27', -67), ('Lapras2.4G', '60:38:e0:bb:ee:01', -55), ('Lapras5G', '60:38:e0:bb:ee:02', -74), ('Lapras2.4G-guest', '62:38:e0:bb:ee:01', -52), ('Lapras5G-guest', '62:38:e0:bb:ee:02', -73), ('ISILAB-2G', '70:5d:cc:92:31:08', -50), ('iDBLab-2.4GHz', '78:54:2e:4c:f1:50', -72), ('WASHERE1', 'b0:c7:45:76:44:2a', -67)]\n",
      "\n",
      "0.2\n",
      "[('DioOpenWrt', '10:6f:3f:e7:f2:84', -80), ('Lapras2.4G', '60:38:e0:bb:ee:01', -63), ('Lapras2.4G-guest', '62:38:e0:bb:ee:01', -63), ('Lapras5G-guest', '62:38:e0:bb:ee:02', -65), ('iDBLab-2.4GHz', '78:54:2e:4c:f1:50', -72), ('WASHERE1', 'b0:c7:45:76:44:2a', -80)]\n",
      "[('DioOpenWrt', '10:6f:3f:e7:f2:84', -64), ('Lapras2.4G', '60:38:e0:bb:ee:01', -52), ('Lapras2.4G-guest', '62:38:e0:bb:ee:01', -55), ('Lapras5G-guest', '62:38:e0:bb:ee:02', -74), ('iDBLab-2.4GHz', '78:54:2e:4c:f1:50', -69), ('WASHERE1', 'b0:c7:45:76:44:2a', -62)]\n",
      "\n",
      "0.7333333333333333\n",
      "[('MoCA', '00:08:9f:bf:5e:44', -42), ('Welcome_KAIST', '00:24:6c:7d:f6:90', -62), ('eduroam', '00:24:6c:7d:f6:91', -61), ('DioOpenWrt', '10:6f:3f:e7:f2:84', -67), ('KEAI', '18:31:bf:46:ff:d8', -56), ('KEAI-5G', '18:31:bf:46:ff:dc', -57), ('[air purifier] Samsung', '28:6d:97:58:d4:3e', -63), ('KIXLAB_WIFI', '48:f8:b3:dc:ef:4c', -66), ('', '5e:ef:68:72:96:27', -64), ('Lapras2.4G', '60:38:e0:bb:ee:01', -56), ('Lapras5G', '60:38:e0:bb:ee:02', -65), ('Lapras2.4G-guest', '62:38:e0:bb:ee:01', -56), ('Lapras5G-guest', '62:38:e0:bb:ee:02', -65), ('HCIL', '6c:70:9f:e0:92:7e', -61), ('HCIL guest', '6e:7e:92:e0:9f:70', -62), ('ISILAB-2G', '70:5d:cc:92:31:08', -43), ('ISILAB-5G', '70:5d:cc:93:31:08', -43), ('hcil_vr4t', '72:5d:cc:48:5b:28', -61), ('egocoord', '72:5d:cc:4b:ae:a4', -63), ('', '9c:d6:43:c8:11:80', -62), ('WASHERE1', 'b0:c7:45:76:44:2a', -63), ('irnlp', 'c4:e9:84:f8:c7:73', -58)]\n",
      "[('MoCA', '00:08:9f:bf:5e:44', -59), ('Welcome_KAIST', '00:24:6c:7d:f6:90', -63), ('eduroam', '00:24:6c:7d:f6:91', -65), ('DioOpenWrt', '10:6f:3f:e7:f2:84', -66), ('KEAI', '18:31:bf:46:ff:d8', -59), ('KEAI-5G', '18:31:bf:46:ff:dc', -72), ('[air purifier] Samsung', '28:6d:97:58:d4:3e', -63), ('KIXLAB_WIFI', '48:f8:b3:dc:ef:4c', -75), ('', '5e:ef:68:72:96:27', -70), ('Lapras2.4G', '60:38:e0:bb:ee:01', -54), ('Lapras5G', '60:38:e0:bb:ee:02', -75), ('Lapras2.4G-guest', '62:38:e0:bb:ee:01', -55), ('Lapras5G-guest', '62:38:e0:bb:ee:02', -75), ('HCIL', '6c:70:9f:e0:92:7e', -58), ('HCIL guest', '6e:7e:92:e0:9f:70', -60), ('ISILAB-2G', '70:5d:cc:92:31:08', -56), ('ISILAB-5G', '70:5d:cc:93:31:08', -54), ('hcil_vr4t', '72:5d:cc:48:5b:28', -63), ('egocoord', '72:5d:cc:4b:ae:a4', -73), ('', '9c:d6:43:c8:11:80', -63), ('WASHERE1', 'b0:c7:45:76:44:2a', -65), ('irnlp', 'c4:e9:84:f8:c7:73', -57)]\n",
      "\n"
     ]
    }
   ],
   "source": [
    "#공통된 bssid의 ssid와 rss값을 저장\n",
    "top_n = 30\n",
    "for confirmed, user in zip(fp_list_confirmed, fp_list_user):\n",
    "    confirmed_bssids = [data['bssid'] for data in confirmed['data'][:top_n]]\n",
    "    user_bssids = [data['bssid'] for data in user['data'][:top_n]]\n",
    "    \n",
    "    intersection = list(set(confirmed_bssids) & set(user_bssids))\n",
    "    \n",
    "    #in case there is no common bssid\n",
    "    if not intersection:\n",
    "        continue\n",
    "    \n",
    "    #get rss value & ssid of common bssids\n",
    "    confirmed_inter = []\n",
    "    user_inter = []\n",
    "    for row in confirmed['data']:\n",
    "        if row['bssid'] in intersection:\n",
    "            confirmed_inter.append((row['ssid'], row['bssid'], row['rss']))\n",
    "    \n",
    "    for row in user['data']:\n",
    "        if row['bssid'] in intersection:\n",
    "            user_inter.append((row['ssid'], row['bssid'], row['rss']))\n",
    "    \n",
    "    \n",
    "    confirmed_inter.sort(key=lambda x : x[1])\n",
    "    user_inter.sort(key=lambda x : x[1])\n",
    "    \n",
    "    print(len(confirmed_inter) / top_n)\n",
    "    print(confirmed_inter)\n",
    "    print(user_inter)\n",
    "    print()"
   ]
  },
  {
   "cell_type": "code",
   "execution_count": 155,
   "metadata": {},
   "outputs": [],
   "source": [
    "floor28_conn.close()\n",
    "floor67_conn.close()"
   ]
  }
 ],
 "metadata": {
  "kernelspec": {
   "display_name": "Python 3",
   "language": "python",
   "name": "python3"
  },
  "language_info": {
   "codemirror_mode": {
    "name": "ipython",
    "version": 3
   },
   "file_extension": ".py",
   "mimetype": "text/x-python",
   "name": "python",
   "nbconvert_exporter": "python",
   "pygments_lexer": "ipython3",
   "version": "3.8.3"
  }
 },
 "nbformat": 4,
 "nbformat_minor": 4
}
