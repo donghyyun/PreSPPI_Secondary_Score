{
 "cells": [
  {
   "cell_type": "code",
   "execution_count": 1,
   "metadata": {},
   "outputs": [],
   "source": [
    "import sqlite3\n",
    "import numpy as np\n",
    "from matplotlib import pyplot as plt\n",
    "\n",
    "#수집시간(5초)\n",
    "COLLECTION_TIME = 5000"
   ]
  },
  {
   "cell_type": "code",
   "execution_count": null,
   "metadata": {},
   "outputs": [],
   "source": [
    "def draw_plot(X, Y, title):\n",
    "    for i in range(len(X)):\n",
    "        plt.plot(X[i], Y[i])\n",
    "    \n",
    "    plt.xlabel('sec')\n",
    "    plt.ylabel('value')\n",
    "    plt.title(title)\n",
    "    plt.show()"
   ]
  },
  {
   "cell_type": "code",
   "execution_count": 132,
   "metadata": {},
   "outputs": [],
   "source": [
    "fn_move_db = 'BlackBox/BlackBox_move.db'\n",
    "move_conn = sqlite3.connect(fn_move_db)\n",
    "cur = move_conn.cursor()"
   ]
  },
  {
   "cell_type": "code",
   "execution_count": 2,
   "metadata": {},
   "outputs": [],
   "source": [
    "fn_stay_db = 'BlackBox/BlackBox_stay.db'\n",
    "stay_conn = sqlite3.connect(fn_stay_db)\n",
    "cur = stay_conn.cursor()"
   ]
  },
  {
   "cell_type": "markdown",
   "metadata": {},
   "source": [
    "## Based on AP Similarity"
   ]
  },
  {
   "cell_type": "code",
   "execution_count": 3,
   "metadata": {},
   "outputs": [],
   "source": [
    "def get_fingerprint_list(rows, key = lambda x : (x['rss'], x['bssid']), reverse=True):\n",
    "    fp_dict = dict()\n",
    "    prev_time = -1e8\n",
    "    \n",
    "    for row in rows:\n",
    "        element = {\n",
    "            'timeMicros': row[1],\n",
    "            'ssid': row[2],\n",
    "            'bssid': row[3],\n",
    "            'freq': row[4],\n",
    "            'rss': row[5]\n",
    "        }\n",
    "        wifi_time = row[6]\n",
    "        \n",
    "        try:\n",
    "            fp_dict[wifi_time].append(element)\n",
    "        except KeyError:\n",
    "            fp_dict[wifi_time] = [element]\n",
    "    \n",
    "    fp_list = [{'logTime': t, 'data': sorted(fp_dict[t], key=key, reverse=reverse)} for t in sorted(fp_dict)]\n",
    "    return fp_list"
   ]
  },
  {
   "cell_type": "code",
   "execution_count": 4,
   "metadata": {},
   "outputs": [],
   "source": [
    "cur.execute(\"select * from Rss\")\n",
    "rows = cur.fetchall()\n",
    "\n",
    "fp_list = get_fingerprint_list(rows)"
   ]
  },
  {
   "cell_type": "code",
   "execution_count": 7,
   "metadata": {},
   "outputs": [
    {
     "name": "stdout",
     "output_type": "stream",
     "text": [
      "['18:31:bf:46:ff:d8', '90:9f:33:73:21:d6', '9c:d6:43:c8:11:80', '70:5d:cc:92:31:08', '60:38:e0:bb:ee:01', '70:5d:cc:93:31:08', '00:08:9f:bf:5e:44']\n",
      "\n",
      "['18:31:bf:46:ff:d8', '62:38:e0:bb:ee:01', '90:9f:33:73:21:d6', '9c:d6:43:c8:11:80', 'c4:e9:84:f8:c7:73', '70:5d:cc:92:31:08', '60:38:e0:bb:ee:01', '70:5d:cc:93:31:08', '00:08:9f:bf:5e:44']\n",
      "\n",
      "['18:31:bf:46:ff:d8', '62:38:e0:bb:ee:01', '90:9f:33:73:21:d6', 'c4:e9:84:f8:c7:73', '70:5d:cc:92:31:08', '60:38:e0:bb:ee:01', '70:5d:cc:93:31:08', '00:08:9f:bf:5e:44']\n",
      "\n",
      "['18:31:bf:46:ff:d8', '62:38:e0:bb:ee:01', '90:9f:33:73:21:d6', '9c:30:5b:e7:70:3a', 'c4:e9:84:f8:c7:73', '70:5d:cc:92:31:08', '60:38:e0:bb:ee:01', '70:5d:cc:93:31:08', '00:08:9f:bf:5e:44']\n",
      "\n",
      "['18:31:bf:46:ff:d8', '62:38:e0:bb:ee:01', '72:5d:cc:48:5b:28', '9c:30:5b:e7:70:3a', 'c4:e9:84:f8:c7:73', '70:5d:cc:92:31:08', '60:38:e0:bb:ee:01', '70:5d:cc:93:31:08', '00:08:9f:bf:5e:44']\n",
      "\n",
      "['18:31:bf:46:ff:d8', '62:38:e0:bb:ee:01', '72:5d:cc:48:5b:28', 'c4:e9:84:f8:c7:73', '70:5d:cc:92:31:08', '60:38:e0:bb:ee:01', '70:5d:cc:93:31:08', '00:08:9f:bf:5e:44']\n",
      "\n",
      "['18:31:bf:46:ff:d8', '62:38:e0:bb:ee:01', '90:9f:33:73:21:d6', 'c4:e9:84:f8:c7:73', '9c:d6:43:c8:11:80', '70:5d:cc:92:31:08', '60:38:e0:bb:ee:01', '70:5d:cc:93:31:08', '00:08:9f:bf:5e:44']\n",
      "\n",
      "['18:31:bf:46:ff:d8', '62:38:e0:bb:ee:01', '90:9f:33:73:21:d6', 'c4:e9:84:f8:c7:73', '70:5d:cc:92:31:08', '60:38:e0:bb:ee:01', '70:5d:cc:93:31:08', '00:08:9f:bf:5e:44']\n",
      "\n",
      "['18:31:bf:46:ff:d8', '90:9f:33:73:21:d6', '72:5d:cc:48:5b:28', 'c4:e9:84:f8:c7:73', '70:5d:cc:92:31:08', '00:08:9f:bf:5e:44', '70:5d:cc:93:31:08']\n",
      "\n",
      "['18:31:bf:46:ff:d8', '90:9f:33:73:21:d6', '72:5d:cc:48:5b:28', '9c:30:5b:e7:70:3a', 'c4:e9:84:f8:c7:73', '9c:d6:43:c8:11:80', '70:5d:cc:92:31:08', '00:08:9f:bf:5e:44', '70:5d:cc:93:31:08']\n",
      "\n",
      "['18:31:bf:46:ff:d8', '90:9f:33:73:21:d6', '72:5d:cc:48:5b:28', '10:6f:3f:e7:f2:84', '9c:30:5b:e7:70:3a', 'c4:e9:84:f8:c7:73', '70:5d:cc:92:31:08', '00:08:9f:bf:5e:44', '70:5d:cc:93:31:08']\n",
      "\n",
      "['90:9f:33:73:21:d6', '72:5d:cc:48:5b:28', 'c4:e9:84:f8:c7:73', '70:5d:cc:92:31:08', '00:08:9f:bf:5e:44', '70:5d:cc:93:31:08']\n",
      "\n",
      "['90:9f:33:73:21:d6', '9c:d6:43:c8:11:80', '70:5d:cc:92:31:08', '00:08:9f:bf:5e:44', '70:5d:cc:93:31:08']\n",
      "\n",
      "['62:38:e0:bb:ee:01', '90:9f:33:73:21:d6', '18:31:bf:46:ff:dc', '70:5d:cc:92:31:08', '60:38:e0:bb:ee:01', '70:5d:cc:93:31:08', '00:08:9f:bf:5e:44']\n",
      "\n",
      "['62:38:e0:bb:ee:01', '90:9f:33:73:21:d6', '18:31:bf:46:ff:dc', '9c:30:5b:e7:70:3a', '70:5d:cc:92:31:08', '60:38:e0:bb:ee:01', '70:5d:cc:93:31:08', '00:08:9f:bf:5e:44']\n",
      "\n",
      "['00:24:6c:7d:f6:90', '62:38:e0:bb:ee:01', '90:9f:33:73:21:d6', '18:31:bf:46:ff:dc', '00:24:6c:7d:f6:91', '9c:30:5b:e7:70:3a', '70:5d:cc:92:31:08', '00:08:9f:bf:5e:44', '70:5d:cc:93:31:08']\n",
      "\n",
      "['18:31:bf:46:ff:d8', '62:38:e0:bb:ee:01', '90:9f:33:73:21:d6', '9c:30:5b:e7:70:3a', '70:5d:cc:92:31:08', '00:08:9f:bf:5e:44', '70:5d:cc:93:31:08']\n",
      "\n",
      "['18:31:bf:46:ff:d8', '62:38:e0:bb:ee:01', '90:9f:33:73:21:d6', '9c:d6:43:c8:11:80', '70:5d:cc:92:31:08', '60:38:e0:bb:ee:01', '70:5d:cc:93:31:08', '00:08:9f:bf:5e:44']\n",
      "\n",
      "['18:31:bf:46:ff:d8', '62:38:e0:bb:ee:01', '18:31:bf:46:ff:dc', '70:5d:cc:92:31:08', '60:38:e0:bb:ee:01', '70:5d:cc:93:31:08', '00:08:9f:bf:5e:44']\n",
      "\n",
      "['18:31:bf:46:ff:d8', '62:38:e0:bb:ee:01', '18:31:bf:46:ff:dc', '70:5d:cc:92:31:08', '00:08:9f:bf:5e:44', '70:5d:cc:93:31:08']\n",
      "\n",
      "['18:31:bf:46:ff:d8', '62:38:e0:bb:ee:01', '18:31:bf:46:ff:dc', '9c:d6:43:c8:11:80', '70:5d:cc:92:31:08', '00:08:9f:bf:5e:44', '70:5d:cc:93:31:08']\n",
      "\n",
      "['18:31:bf:46:ff:d8', '62:38:e0:bb:ee:01', '18:31:bf:46:ff:dc', '00:24:6c:7d:f6:91', '9c:d6:43:c8:11:80', '70:5d:cc:92:31:08', '60:38:e0:bb:ee:01', '70:5d:cc:93:31:08', '00:08:9f:bf:5e:44']\n",
      "\n",
      "stayed\n"
     ]
    }
   ],
   "source": [
    "top_n = 10\n",
    "move_count = 0\n",
    "\n",
    "# Need to consider when len(fp_list) == 1\n",
    "for prev_fp, cur_fp in zip(fp_list, fp_list[1:]):\n",
    "    prev_bssids = [row['bssid'] for row in prev_fp['data'][:top_n]]\n",
    "    cur_bssids = [row['bssid'] for row in cur_fp['data'][:top_n]]\n",
    "    \n",
    "    intersection = list(set(prev_bssids) & set(cur_bssids))\n",
    "    \n",
    "    #print([(row['ssid'], row['bssid'], row['rss']) for row in prev_fp['data'][:top_n]])\n",
    "    #print([(row['ssid'], row['bssid'], row['rss']) for row in cur_fp['data'][:top_n]])\n",
    "    \n",
    "    if len(intersection) < top_n * 0.7:\n",
    "        move_count += 1\n",
    "    \n",
    "    print(intersection)\n",
    "    print()\n",
    "\n",
    "\n",
    "if move_count > len(fp_list) * 0.5:\n",
    "    print('moved')\n",
    "else:\n",
    "    print('stayed')\n"
   ]
  },
  {
   "cell_type": "markdown",
   "metadata": {},
   "source": [
    "## Based on Accerlometer Data"
   ]
  },
  {
   "cell_type": "code",
   "execution_count": 6,
   "metadata": {},
   "outputs": [
    {
     "name": "stdout",
     "output_type": "stream",
     "text": [
      "len(acc_list): 10\n"
     ]
    }
   ],
   "source": [
    "#Moving or Stay\n",
    "MIN_LENGTH = 50\n",
    "\n",
    "acc_list = list()\n",
    "cur.execute(\"select * from Acc\")\n",
    "rows = cur.fetchall()\n",
    "\n",
    "prev_time = -1e8\n",
    "for row in rows:\n",
    "    #print(row)\n",
    "    element = {\n",
    "        'timeMillis': row[1],\n",
    "        'timeNanos': row[2],\n",
    "        'x': row[3],\n",
    "        'y': row[4],\n",
    "        'z': row[5]\n",
    "    }\n",
    "    \n",
    "    if (element['timeMillis'] - prev_time) < COLLECTION_TIME:\n",
    "        acc_list[-1].append(element)\n",
    "    else:\n",
    "        acc_list.append([element])\n",
    "        prev_time = element['timeMillis']\n",
    "\n",
    "\n",
    "#수집된 데이터가 너무 적은 경우 제외\n",
    "idx = 0\n",
    "while idx < len(acc_list):\n",
    "    if len(acc_list[idx]) < MIN_LENGTH:\n",
    "        acc_list.pop(idx)\n",
    "    else:\n",
    "        idx += 1\n",
    "        \n",
    "print('len(acc_list):', len(acc_list))"
   ]
  },
  {
   "cell_type": "code",
   "execution_count": 7,
   "metadata": {
    "scrolled": true
   },
   "outputs": [
    {
     "name": "stdout",
     "output_type": "stream",
     "text": [
      "stayed\n",
      "len(acc_list): 10\n",
      "moved_count: 2\n",
      "stayed_count: 8\n"
     ]
    }
   ],
   "source": [
    "count = 0\n",
    "VAR_THRESHOLD = 10\n",
    "COUNT_THRESHOLD = 0.5\n",
    "\n",
    "for i in range(len(acc_list)):\n",
    "    x_axis = np.array([ele['x'] for ele in acc_list[i]])\n",
    "    y_axis = np.array([ele['y'] for ele in acc_list[i]])\n",
    "    z_axis = np.array([ele['z'] for ele in acc_list[i]])\n",
    "    \n",
    "    if max(x_axis.var(), y_axis.var(), z_axis.var()) > VAR_THRESHOLD:\n",
    "#         x_line = np.linspace(0, 5, len(acc_list[i]))\n",
    "#         draw_plot([x_line, x_line, x_line], [x_axis, y_axis, z_axis], str(i) + '-th')\n",
    "        count += 1\n",
    "\n",
    "if count / len(acc_list) >= COUNT_THRESHOLD:\n",
    "    print('moved')\n",
    "else:\n",
    "    print('stayed')\n",
    "\n",
    "print('len(acc_list):', len(acc_list))\n",
    "print('moved_count:', count)\n",
    "print('stayed_count:', len(acc_list) - count)"
   ]
  },
  {
   "cell_type": "code",
   "execution_count": 137,
   "metadata": {},
   "outputs": [],
   "source": [
    "move_conn.close()\n",
    "stay_conn.close()"
   ]
  }
 ],
 "metadata": {
  "kernelspec": {
   "display_name": "Python 3",
   "language": "python",
   "name": "python3"
  },
  "language_info": {
   "codemirror_mode": {
    "name": "ipython",
    "version": 3
   },
   "file_extension": ".py",
   "mimetype": "text/x-python",
   "name": "python",
   "nbconvert_exporter": "python",
   "pygments_lexer": "ipython3",
   "version": "3.8.3"
  }
 },
 "nbformat": 4,
 "nbformat_minor": 4
}
