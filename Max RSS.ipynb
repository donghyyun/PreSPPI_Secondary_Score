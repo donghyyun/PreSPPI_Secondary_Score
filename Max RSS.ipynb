{
 "cells": [
  {
   "cell_type": "markdown",
   "metadata": {},
   "source": [
    "## MAX RSS"
   ]
  },
  {
   "cell_type": "code",
   "execution_count": null,
   "metadata": {},
   "outputs": [],
   "source": [
    "import sqlite3\n",
    "import numpy as np\n",
    "import time\n",
    "from matplotlib import pyplot as plt"
   ]
  },
  {
   "cell_type": "code",
   "execution_count": null,
   "metadata": {},
   "outputs": [],
   "source": [
    "floor28_db = 'BlackBox/BlackBox_2&8_floor.db'\n",
    "floor28_conn = sqlite3.connect(floor28_db)\n",
    "cur28 = floor28_conn.cursor()\n",
    "\n",
    "floor28_db = 'BlackBox/BlackBox_2&8_floor.db'\n",
    "floor28_conn = sqlite3.connect(floor28_db)\n",
    "cur28 = floor28_conn.cursor()"
   ]
  },
  {
   "cell_type": "code",
   "execution_count": null,
   "metadata": {},
   "outputs": [],
   "source": [
    "#max RSSI\n",
    "max_rss_element = {}\n",
    "\n",
    "cur.execute(\"select * from Rss\")\n",
    "rows = cur.fetchall()\n",
    "for row in rows:\n",
    "    element = {\n",
    "        'timeMicros': row[1],\n",
    "        'ssid': row[2],\n",
    "        'bssid': row[3],\n",
    "        'freq': row[4],\n",
    "        'rss': row[5]\n",
    "    }\n",
    "    \n",
    "    if not max_rss_element:\n",
    "        max_rss_element = element\n",
    "        \n",
    "    elif max_rss_element['rss'] < element['rss']:\n",
    "        max_rss_element = element\n",
    "    \n",
    "\n",
    "max_rss_element"
   ]
  },
  {
   "cell_type": "code",
   "execution_count": null,
   "metadata": {},
   "outputs": [],
   "source": [
    "#max RSSI\n",
    "max_rss_id = 0\n",
    "max_rss = -1e8\n",
    "\n",
    "cur.execute(\"select id, rss from Rss\")\n",
    "rows = cur.fetchall()\n",
    "\n",
    "for row in rows:\n",
    "    pid, rss = row\n",
    "    \n",
    "    if max_rss < rss:\n",
    "        max_rss_id, max_rss = pid, rss\n",
    "    \n",
    "\n",
    "cur.execute('select * from Rss where id = ' + str(max_rss_id))\n",
    "row = cur.fetchone()\n",
    "max_rss_element = {\n",
    "    'timeMicros': row[1],\n",
    "    'ssid': row[2],\n",
    "    'bssid': row[3],\n",
    "    'freq': row[4],\n",
    "    'rss': row[5],\n",
    "    'logTime': row[6]\n",
    "}\n",
    "\n",
    "max_rss_element"
   ]
  }
 ],
 "metadata": {
  "kernelspec": {
   "display_name": "Python 3",
   "language": "python",
   "name": "python3"
  },
  "language_info": {
   "codemirror_mode": {
    "name": "ipython",
    "version": 3
   },
   "file_extension": ".py",
   "mimetype": "text/x-python",
   "name": "python",
   "nbconvert_exporter": "python",
   "pygments_lexer": "ipython3",
   "version": "3.8.3"
  }
 },
 "nbformat": 4,
 "nbformat_minor": 4
}
